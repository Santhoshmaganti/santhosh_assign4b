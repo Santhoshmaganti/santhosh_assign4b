{
 "cells": [
  {
   "cell_type": "code",
   "execution_count": 1,
   "id": "4afe3fed",
   "metadata": {},
   "outputs": [],
   "source": [
    "Friends_list=(\"Hari\",\"Harsha\",\"Varun\",\"Vamsi\",\"Lavanya\",\"Bhargavi\")"
   ]
  },
  {
   "cell_type": "code",
   "execution_count": 3,
   "id": "74130d23",
   "metadata": {},
   "outputs": [
    {
     "name": "stdout",
     "output_type": "stream",
     "text": [
      "('Hari', 'Harsha', 'Varun', 'Vamsi', 'Lavanya', 'Bhargavi')\n"
     ]
    }
   ],
   "source": [
    "print(Friends_list)"
   ]
  },
  {
   "cell_type": "code",
   "execution_count": 5,
   "id": "51e62fb3",
   "metadata": {},
   "outputs": [],
   "source": [
    " Family_members=[\"Veera Brahmmam\",\"Ratna kumari\",\"Sravanthi\",\"Sravani\"]"
   ]
  },
  {
   "cell_type": "code",
   "execution_count": 6,
   "id": "d09e9f0d",
   "metadata": {},
   "outputs": [
    {
     "name": "stdout",
     "output_type": "stream",
     "text": [
      "['Veera Brahmmam', 'Ratna kumari', 'Sravanthi', 'Sravani']\n"
     ]
    }
   ],
   "source": [
    "print(Family_members)"
   ]
  },
  {
   "cell_type": "code",
   "execution_count": 7,
   "id": "cc0158c1",
   "metadata": {},
   "outputs": [],
   "source": [
    "Colours={\"Red\",\"green\",\"yellow\",\"black\",\"white\"}"
   ]
  },
  {
   "cell_type": "code",
   "execution_count": 10,
   "id": "295e5e62",
   "metadata": {},
   "outputs": [
    {
     "name": "stdout",
     "output_type": "stream",
     "text": [
      "{'yellow', 'white', 'black', 'green', 'Red'}\n"
     ]
    }
   ],
   "source": [
    "print(Colours)"
   ]
  },
  {
   "cell_type": "code",
   "execution_count": 11,
   "id": "9896f8b4",
   "metadata": {},
   "outputs": [],
   "source": [
    "month_names=[1,9,10,5,3,2,7,8,6,4]"
   ]
  },
  {
   "cell_type": "code",
   "execution_count": 15,
   "id": "90ed4dd3",
   "metadata": {},
   "outputs": [],
   "source": [
    "Seq_set=set(month_names)"
   ]
  },
  {
   "cell_type": "code",
   "execution_count": 17,
   "id": "b8aab542",
   "metadata": {},
   "outputs": [
    {
     "name": "stdout",
     "output_type": "stream",
     "text": [
      "{1, 2, 3, 4, 5, 6, 7, 8, 9, 10}\n"
     ]
    }
   ],
   "source": [
    "print(Seq_set)"
   ]
  },
  {
   "cell_type": "code",
   "execution_count": 18,
   "id": "ca81736b",
   "metadata": {},
   "outputs": [],
   "source": [
    " bollywood_heros=[\"sharukkhan\", \"salmankhan\", \"salmankhan\",\"amirkhan\",\"HrithikRoshan\",\"Amitabh Bachchan\",\"Akshay Kumar\",\"amirkhan\"]"
   ]
  },
  {
   "cell_type": "code",
   "execution_count": null,
   "id": "52195a4f",
   "metadata": {},
   "outputs": [],
   "source": [
    "tollywood_heros1=[\"chiru\", \"balaya\", \"nag\",\"venky\",\"powerstar\",\"superstar\",\"ntr\",\"ramcharan\"]\n"
   ]
  },
  {
   "cell_type": "code",
   "execution_count": null,
   "id": "06a94c7e",
   "metadata": {},
   "outputs": [],
   "source": [
    "a=\"santhosh\"\n",
    "a"
   ]
  },
  {
   "cell_type": "code",
   "execution_count": 4,
   "id": "75524054",
   "metadata": {},
   "outputs": [],
   "source": [
    "tollywood_heros=[\"chiru\", \"balaya\", \"nag\",\"venky\",\"powerstar\",\"superstar\",\"ntr\",\"ramcharan\"]"
   ]
  },
  {
   "cell_type": "code",
   "execution_count": 8,
   "id": "a07a5eab",
   "metadata": {},
   "outputs": [],
   "source": [
    "tollywood_heros[0]=(\"chiranjeevi\")\n",
    "tollywood_heros[1]=(\"Balakrishna\")\n",
    "tollywood_heros[2]=(\"Nagarjuna\")\n",
    "tollywood_heros[3]=(\"Venkatesh\")\n",
    "tollywood_heros[4]=(\"Pawankalyan\")\n",
    "tollywood_heros[5]=(\"Maheshbabu\")\n",
    "tollywood_heros[6]=(\"NT Ramarao\")\n",
    "tollywood_heros[7]=(\"ramcharan\")"
   ]
  },
  {
   "cell_type": "code",
   "execution_count": 9,
   "id": "149d7422",
   "metadata": {},
   "outputs": [
    {
     "name": "stdout",
     "output_type": "stream",
     "text": [
      "['chiranjeevi', 'Balakrishna', 'Nagarjuna', 'Venkatesh', 'Pawankalyan', 'Maheshbabu', 'NT Ramarao', 'ramcharan']\n"
     ]
    }
   ],
   "source": [
    "print(tollywood_heros)"
   ]
  },
  {
   "cell_type": "code",
   "execution_count": 1,
   "id": "70dcabe7",
   "metadata": {},
   "outputs": [],
   "source": [
    "bollywood_heros=[\"sharukkhan\", \"salmankhan\", \"salmankhan\",\"amirkhan\",\"HrithikRoshan\",\"Amitabh Bachchan\",\"Akshay Kumar\",\"amirkhan\"]"
   ]
  },
  {
   "cell_type": "code",
   "execution_count": 2,
   "id": "962afad6",
   "metadata": {},
   "outputs": [],
   "source": [
    "seq_set=set(bollywood_heros)"
   ]
  },
  {
   "cell_type": "code",
   "execution_count": 3,
   "id": "8e8160b9",
   "metadata": {},
   "outputs": [
    {
     "name": "stdout",
     "output_type": "stream",
     "text": [
      "{'sharukkhan', 'salmankhan', 'HrithikRoshan', 'Amitabh Bachchan', 'amirkhan', 'Akshay Kumar'}\n"
     ]
    }
   ],
   "source": [
    "print(seq_set)"
   ]
  },
  {
   "cell_type": "code",
   "execution_count": 14,
   "id": "a4fb70bd",
   "metadata": {},
   "outputs": [],
   "source": [
    "breakfast_items=[\"upma\",\"dosa\",\"idly\",\"puri\",\"punugulu\",\"roti\",\"chapathi\", \"parota\",\"mysoor baji\",\"minapa baji\"]"
   ]
  },
  {
   "cell_type": "code",
   "execution_count": 14,
   "id": "d8fa6bdf",
   "metadata": {},
   "outputs": [
    {
     "name": "stdout",
     "output_type": "stream",
     "text": [
      "my favourite item is mysoor baji\n"
     ]
    }
   ],
   "source": [
    "print(\"my favourite item is\",\"mysoor baji\")"
   ]
  },
  {
   "cell_type": "code",
   "execution_count": 1,
   "id": "3940e27e",
   "metadata": {},
   "outputs": [],
   "source": [
    "name1=\"hari\"\n",
    "name2=\"harsha\"\n",
    "name3=\"varun\"\n",
    "name4=\"vamsi\""
   ]
  },
  {
   "cell_type": "code",
   "execution_count": 16,
   "id": "0438a55e",
   "metadata": {},
   "outputs": [
    {
     "name": "stdout",
     "output_type": "stream",
     "text": [
      "my friends are,hari,harsha,varun,vamsi\n"
     ]
    }
   ],
   "source": [
    "print(\"my friends are\" ,name1,name2,name3,name4,sep=',')"
   ]
  }
 ],
 "metadata": {
  "kernelspec": {
   "display_name": "Python 3 (ipykernel)",
   "language": "python",
   "name": "python3"
  },
  "language_info": {
   "codemirror_mode": {
    "name": "ipython",
    "version": 3
   },
   "file_extension": ".py",
   "mimetype": "text/x-python",
   "name": "python",
   "nbconvert_exporter": "python",
   "pygments_lexer": "ipython3",
   "version": "3.10.9"
  }
 },
 "nbformat": 4,
 "nbformat_minor": 5
}
